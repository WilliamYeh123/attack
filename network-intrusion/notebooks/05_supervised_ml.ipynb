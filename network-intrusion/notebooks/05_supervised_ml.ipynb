{
 "cells": [
  {
   "cell_type": "markdown",
   "metadata": {},
   "source": [
    "# Supervised ML - Imbalanced Learning\n",
    "In the supervised setting, the class label for each record in the training set is provided and the goal is to train a classifier that would be used for prediction on unseen data. Here, we have trained two classifiers\n",
    "\n",
    "1. Logistic Regression\n",
    "\n",
    "2. Random Forest.\n",
    "\n",
    "The results below show that the two classifiers perform extremely well on the dataset. The AUC-ROC and AUC-PRC are $100\\%$ for on the training (cross-validation) and test sets"
   ]
  },
  {
   "cell_type": "code",
   "execution_count": 1,
   "metadata": {},
   "outputs": [],
   "source": [
    "%matplotlib inline\n",
    "\n",
    "# Ignore deprecated warning\n",
    "import warnings\n",
    "warnings.filterwarnings(\"ignore\")\n",
    "\n",
    "import pandas as pd\n",
    "import numpy as np\n",
    "import matplotlib.pyplot as plt\n",
    "import seaborn as sns\n",
    "from sklearn.model_selection import train_test_split\n",
    "from sklearn.ensemble import RandomForestClassifier\n",
    "from sklearn.linear_model import LogisticRegression\n",
    "from sklearn.svm import SVC\n",
    "\n",
    "plt.rcParams.update({'font.size': 15})"
   ]
  },
  {
   "cell_type": "code",
   "execution_count": 26,
   "metadata": {},
   "outputs": [],
   "source": [
    "# Import custom class\n",
    "%run -i '../src/transfxns.py'\n",
    "%run -i '../src/sup_ml.py'"
   ]
  },
  {
   "cell_type": "code",
   "execution_count": 27,
   "metadata": {},
   "outputs": [],
   "source": [
    "# Instantiate the classes\n",
    "transfxn = TransformationPipeline()\n",
    "model = SupervisedModels()"
   ]
  },
  {
   "cell_type": "markdown",
   "metadata": {},
   "source": [
    "# Load data"
   ]
  },
  {
   "cell_type": "code",
   "execution_count": 5,
   "metadata": {},
   "outputs": [
    {
     "name": "stdout",
     "output_type": "stream",
     "text": [
      "Data size: (620098, 30)\n"
     ]
    },
    {
     "data": {
      "text/html": [
       "<div>\n",
       "<style scoped>\n",
       "    .dataframe tbody tr th:only-of-type {\n",
       "        vertical-align: middle;\n",
       "    }\n",
       "\n",
       "    .dataframe tbody tr th {\n",
       "        vertical-align: top;\n",
       "    }\n",
       "\n",
       "    .dataframe thead th {\n",
       "        text-align: right;\n",
       "    }\n",
       "</style>\n",
       "<table border=\"1\" class=\"dataframe\">\n",
       "  <thead>\n",
       "    <tr style=\"text-align: right;\">\n",
       "      <th></th>\n",
       "      <th>v_0</th>\n",
       "      <th>v_1</th>\n",
       "      <th>v_2</th>\n",
       "      <th>v_3</th>\n",
       "      <th>v_4</th>\n",
       "      <th>v_5</th>\n",
       "      <th>v_6</th>\n",
       "      <th>v_7</th>\n",
       "      <th>v_8</th>\n",
       "      <th>v_9</th>\n",
       "      <th>...</th>\n",
       "      <th>v_20</th>\n",
       "      <th>v_21</th>\n",
       "      <th>v_22</th>\n",
       "      <th>v_23</th>\n",
       "      <th>v_24</th>\n",
       "      <th>v_25</th>\n",
       "      <th>v_26</th>\n",
       "      <th>v_27</th>\n",
       "      <th>v_28</th>\n",
       "      <th>v_29</th>\n",
       "    </tr>\n",
       "  </thead>\n",
       "  <tbody>\n",
       "    <tr>\n",
       "      <th>0</th>\n",
       "      <td>0.0</td>\n",
       "      <td>215.0</td>\n",
       "      <td>45076.0</td>\n",
       "      <td>0.0</td>\n",
       "      <td>1.0</td>\n",
       "      <td>0.0</td>\n",
       "      <td>0.0</td>\n",
       "      <td>0.0</td>\n",
       "      <td>0.0</td>\n",
       "      <td>0.0</td>\n",
       "      <td>...</td>\n",
       "      <td>0.0</td>\n",
       "      <td>0.0</td>\n",
       "      <td>0.0</td>\n",
       "      <td>0.00</td>\n",
       "      <td>0.0</td>\n",
       "      <td>0.0</td>\n",
       "      <td>0.0</td>\n",
       "      <td>0.0</td>\n",
       "      <td>0.0</td>\n",
       "      <td>n</td>\n",
       "    </tr>\n",
       "    <tr>\n",
       "      <th>1</th>\n",
       "      <td>0.0</td>\n",
       "      <td>162.0</td>\n",
       "      <td>4528.0</td>\n",
       "      <td>0.0</td>\n",
       "      <td>1.0</td>\n",
       "      <td>0.0</td>\n",
       "      <td>0.0</td>\n",
       "      <td>0.0</td>\n",
       "      <td>0.0</td>\n",
       "      <td>0.0</td>\n",
       "      <td>...</td>\n",
       "      <td>1.0</td>\n",
       "      <td>1.0</td>\n",
       "      <td>0.0</td>\n",
       "      <td>1.00</td>\n",
       "      <td>0.0</td>\n",
       "      <td>0.0</td>\n",
       "      <td>0.0</td>\n",
       "      <td>0.0</td>\n",
       "      <td>0.0</td>\n",
       "      <td>n</td>\n",
       "    </tr>\n",
       "    <tr>\n",
       "      <th>2</th>\n",
       "      <td>0.0</td>\n",
       "      <td>236.0</td>\n",
       "      <td>1228.0</td>\n",
       "      <td>0.0</td>\n",
       "      <td>1.0</td>\n",
       "      <td>0.0</td>\n",
       "      <td>0.0</td>\n",
       "      <td>0.0</td>\n",
       "      <td>0.0</td>\n",
       "      <td>0.0</td>\n",
       "      <td>...</td>\n",
       "      <td>2.0</td>\n",
       "      <td>1.0</td>\n",
       "      <td>0.0</td>\n",
       "      <td>0.50</td>\n",
       "      <td>0.0</td>\n",
       "      <td>0.0</td>\n",
       "      <td>0.0</td>\n",
       "      <td>0.0</td>\n",
       "      <td>0.0</td>\n",
       "      <td>n</td>\n",
       "    </tr>\n",
       "    <tr>\n",
       "      <th>3</th>\n",
       "      <td>0.0</td>\n",
       "      <td>233.0</td>\n",
       "      <td>2032.0</td>\n",
       "      <td>0.0</td>\n",
       "      <td>1.0</td>\n",
       "      <td>0.0</td>\n",
       "      <td>0.0</td>\n",
       "      <td>0.0</td>\n",
       "      <td>0.0</td>\n",
       "      <td>0.0</td>\n",
       "      <td>...</td>\n",
       "      <td>3.0</td>\n",
       "      <td>1.0</td>\n",
       "      <td>0.0</td>\n",
       "      <td>0.33</td>\n",
       "      <td>0.0</td>\n",
       "      <td>0.0</td>\n",
       "      <td>0.0</td>\n",
       "      <td>0.0</td>\n",
       "      <td>0.0</td>\n",
       "      <td>n</td>\n",
       "    </tr>\n",
       "    <tr>\n",
       "      <th>4</th>\n",
       "      <td>0.0</td>\n",
       "      <td>239.0</td>\n",
       "      <td>486.0</td>\n",
       "      <td>0.0</td>\n",
       "      <td>1.0</td>\n",
       "      <td>0.0</td>\n",
       "      <td>0.0</td>\n",
       "      <td>0.0</td>\n",
       "      <td>0.0</td>\n",
       "      <td>0.0</td>\n",
       "      <td>...</td>\n",
       "      <td>4.0</td>\n",
       "      <td>1.0</td>\n",
       "      <td>0.0</td>\n",
       "      <td>0.25</td>\n",
       "      <td>0.0</td>\n",
       "      <td>0.0</td>\n",
       "      <td>0.0</td>\n",
       "      <td>0.0</td>\n",
       "      <td>0.0</td>\n",
       "      <td>n</td>\n",
       "    </tr>\n",
       "  </tbody>\n",
       "</table>\n",
       "<p>5 rows × 30 columns</p>\n",
       "</div>"
      ],
      "text/plain": [
       "   v_0    v_1      v_2  v_3  v_4  v_5  v_6  v_7  v_8  v_9  ...  v_20  v_21  \\\n",
       "0  0.0  215.0  45076.0  0.0  1.0  0.0  0.0  0.0  0.0  0.0  ...   0.0   0.0   \n",
       "1  0.0  162.0   4528.0  0.0  1.0  0.0  0.0  0.0  0.0  0.0  ...   1.0   1.0   \n",
       "2  0.0  236.0   1228.0  0.0  1.0  0.0  0.0  0.0  0.0  0.0  ...   2.0   1.0   \n",
       "3  0.0  233.0   2032.0  0.0  1.0  0.0  0.0  0.0  0.0  0.0  ...   3.0   1.0   \n",
       "4  0.0  239.0    486.0  0.0  1.0  0.0  0.0  0.0  0.0  0.0  ...   4.0   1.0   \n",
       "\n",
       "   v_22  v_23  v_24  v_25  v_26  v_27  v_28  v_29  \n",
       "0   0.0  0.00   0.0   0.0   0.0   0.0   0.0     n  \n",
       "1   0.0  1.00   0.0   0.0   0.0   0.0   0.0     n  \n",
       "2   0.0  0.50   0.0   0.0   0.0   0.0   0.0     n  \n",
       "3   0.0  0.33   0.0   0.0   0.0   0.0   0.0     n  \n",
       "4   0.0  0.25   0.0   0.0   0.0   0.0   0.0     n  \n",
       "\n",
       "[5 rows x 30 columns]"
      ]
     },
     "execution_count": 5,
     "metadata": {},
     "output_type": "execute_result"
    }
   ],
   "source": [
    "df = pd.read_csv('../data/kdd99-unsupervised-ad.csv', header=None)\n",
    "print(\"Data size:\", df.shape) # print data size\n",
    "df.columns = ['v_{}'.format(i) for i in range(30)] # column names\n",
    "df.head()"
   ]
  },
  {
   "cell_type": "markdown",
   "metadata": {},
   "source": [
    "# Categorical variables encoded as integers"
   ]
  },
  {
   "cell_type": "code",
   "execution_count": 6,
   "metadata": {},
   "outputs": [],
   "source": [
    "# Convert to string\n",
    "cols = ['v_6', 'v_7', 'v_8', 'v_9']\n",
    "for i, val in enumerate(cols):\n",
    "    df[val] = df[val].astype('O')"
   ]
  },
  {
   "cell_type": "markdown",
   "metadata": {},
   "source": [
    "# Create feature matrix and class label"
   ]
  },
  {
   "cell_type": "code",
   "execution_count": 7,
   "metadata": {},
   "outputs": [],
   "source": [
    "X, y = df.drop('v_29', axis = 1), df.v_29"
   ]
  },
  {
   "cell_type": "code",
   "execution_count": 8,
   "metadata": {},
   "outputs": [],
   "source": [
    "y = y.map({'n':0, 'o':1}) # Map to binary"
   ]
  },
  {
   "cell_type": "markdown",
   "metadata": {},
   "source": [
    "# Create a test set\n",
    "Stratify sampling with 80 $\\%$ training set and 20 $\\%$ test set"
   ]
  },
  {
   "cell_type": "code",
   "execution_count": 10,
   "metadata": {},
   "outputs": [],
   "source": [
    "X_train, X_test, y_train, y_test = train_test_split(X, y, test_size=0.2, \n",
    "                                                    random_state=42, \n",
    "                                                    stratify=y)"
   ]
  },
  {
   "cell_type": "code",
   "execution_count": 11,
   "metadata": {},
   "outputs": [
    {
     "name": "stdout",
     "output_type": "stream",
     "text": [
      "Training set size: (496078, 29) (496078,)\n",
      "Test set size: (124020, 29) (124020,)\n"
     ]
    }
   ],
   "source": [
    "print('Training set size:', X_train.shape, y_train.shape)\n",
    "print('Test set size:', X_test.shape, y_test.shape)"
   ]
  },
  {
   "cell_type": "code",
   "execution_count": 12,
   "metadata": {},
   "outputs": [
    {
     "name": "stdout",
     "output_type": "stream",
     "text": [
      "Training set class distribution:\n",
      " 0    99.830269\n",
      "1     0.169731\n",
      "Name: v_29, dtype: float64\n",
      "------------------------------\n",
      "Test set class distribution:\n",
      " 0    99.830672\n",
      "1     0.169328\n",
      "Name: v_29, dtype: float64\n"
     ]
    }
   ],
   "source": [
    "print(f'Training set class distribution:\\n {(y_train.value_counts()/X_train.shape[0])*100}')\n",
    "print('--' * 15)\n",
    "print(f'Test set class distribution:\\n {(y_test.value_counts()/X_test.shape[0])*100}')"
   ]
  },
  {
   "cell_type": "markdown",
   "metadata": {},
   "source": [
    "# Transformation pipeline"
   ]
  },
  {
   "cell_type": "code",
   "execution_count": 13,
   "metadata": {},
   "outputs": [],
   "source": [
    "# Transform and scale data\n",
    "X_train_scaled, X_test_scaled, feat_nm = transfxn.preprocessing(X_train, X_test)"
   ]
  },
  {
   "cell_type": "code",
   "execution_count": 14,
   "metadata": {},
   "outputs": [
    {
     "name": "stdout",
     "output_type": "stream",
     "text": [
      "Training set size after pre-processing: ((496078, 33), (496078,))\n",
      "Test set size after pre-processing: ((124020, 33), (124020,))\n"
     ]
    }
   ],
   "source": [
    "print(f'Training set size after pre-processing: {X_train_scaled.shape, y_train.shape}')\n",
    "print(f'Test set size after pre-processing: {X_test_scaled.shape, y_test.shape}')"
   ]
  },
  {
   "cell_type": "code",
   "execution_count": 15,
   "metadata": {},
   "outputs": [],
   "source": [
    "# Convert the class labels to arrays\n",
    "y_train, y_test = y_train.values, y_test.values"
   ]
  },
  {
   "cell_type": "markdown",
   "metadata": {},
   "source": [
    "# A. Model Training"
   ]
  },
  {
   "cell_type": "markdown",
   "metadata": {},
   "source": [
    "## A-1. Logistic Regression"
   ]
  },
  {
   "cell_type": "code",
   "execution_count": 17,
   "metadata": {},
   "outputs": [
    {
     "name": "stdout",
     "output_type": "stream",
     "text": [
      "Predictions on the training set for Logistic Regression\n",
      "------------------------------------------------------------\n",
      "Accuracy:  0.999984\n",
      "AUROC: 0.999998\n",
      "AUPRC: 0.998421\n",
      "Predicted classes: [0 1]\n",
      "Confusion matrix:\n",
      " [[495235      1]\n",
      " [     7    835]]\n",
      "Classification report:\n",
      "               precision    recall  f1-score   support\n",
      "\n",
      "           0       1.00      1.00      1.00    495236\n",
      "           1       1.00      0.99      1.00       842\n",
      "\n",
      "    accuracy                           1.00    496078\n",
      "   macro avg       1.00      1.00      1.00    496078\n",
      "weighted avg       1.00      1.00      1.00    496078\n",
      "\n",
      "------------------------------------------------------------\n"
     ]
    }
   ],
   "source": [
    "log_clf = LogisticRegression(random_state=42)  \n",
    "log_clf.fit(X_train_scaled, y_train)\n",
    "\n",
    "# Prediction on the training set\n",
    "model.prediction(log_clf, X_train_scaled, y_train, \n",
    "                 subset='training set',\n",
    "                 model_nm='Logistic Regression',\n",
    "                )"
   ]
  },
  {
   "cell_type": "markdown",
   "metadata": {},
   "source": [
    "## A-2. Cross-validation for Logistic Regression"
   ]
  },
  {
   "cell_type": "code",
   "execution_count": 18,
   "metadata": {},
   "outputs": [
    {
     "name": "stdout",
     "output_type": "stream",
     "text": [
      "5-fold cross-validation for Logistic Regression\n",
      "------------------------------------------------------------\n",
      "Accuracy (std): 0.999962 (0.000022)\n",
      "AUROC: 0.999995\n",
      "AUPRC: 0.992664\n",
      "Predicted classes: [0 1]\n",
      "Confusion matrix:\n",
      " [[495229      7]\n",
      " [    12    830]]\n",
      "Classification report:\n",
      "               precision    recall  f1-score   support\n",
      "\n",
      "           0       1.00      1.00      1.00    495236\n",
      "           1       0.99      0.99      0.99       842\n",
      "\n",
      "    accuracy                           1.00    496078\n",
      "   macro avg       1.00      0.99      0.99    496078\n",
      "weighted avg       1.00      1.00      1.00    496078\n",
      "\n",
      "------------------------------------------------------------\n"
     ]
    }
   ],
   "source": [
    "lr_clf = LogisticRegression()\n",
    "model.prediction_cv(lr_clf, X_train_scaled, y_train, cv_fold=5, \n",
    "                    scoring='accuracy', \n",
    "                    model_nm='Logistic Regression',\n",
    "                   )"
   ]
  },
  {
   "cell_type": "markdown",
   "metadata": {},
   "source": [
    "## A-3. Random Forest"
   ]
  },
  {
   "cell_type": "code",
   "execution_count": 19,
   "metadata": {},
   "outputs": [
    {
     "name": "stdout",
     "output_type": "stream",
     "text": [
      "Predictions on the training set for Random Forest\n",
      "------------------------------------------------------------\n",
      "Accuracy:  1.000000\n",
      "AUROC: 1.000000\n",
      "AUPRC: 1.000000\n",
      "Predicted classes: [0 1]\n",
      "Confusion matrix:\n",
      " [[495236      0]\n",
      " [     0    842]]\n",
      "Classification report:\n",
      "               precision    recall  f1-score   support\n",
      "\n",
      "           0       1.00      1.00      1.00    495236\n",
      "           1       1.00      1.00      1.00       842\n",
      "\n",
      "    accuracy                           1.00    496078\n",
      "   macro avg       1.00      1.00      1.00    496078\n",
      "weighted avg       1.00      1.00      1.00    496078\n",
      "\n",
      "------------------------------------------------------------\n"
     ]
    }
   ],
   "source": [
    "rf_clf = RandomForestClassifier(random_state=42)  \n",
    "rf_clf.fit(X_train_scaled, y_train)\n",
    "\n",
    "# Prediction on the training set\n",
    "model.prediction(rf_clf, X_train_scaled, y_train, \n",
    "                 subset='training set',\n",
    "                 model_nm='Random Forest',\n",
    "                )"
   ]
  },
  {
   "cell_type": "markdown",
   "metadata": {},
   "source": [
    "## A-4. Cross-validation for Random Forest"
   ]
  },
  {
   "cell_type": "code",
   "execution_count": 20,
   "metadata": {},
   "outputs": [
    {
     "name": "stdout",
     "output_type": "stream",
     "text": [
      "5-fold cross-validation for Random Forest\n",
      "------------------------------------------------------------\n",
      "Accuracy (std): 0.999990 (0.000011)\n",
      "AUROC: 1.000000\n",
      "AUPRC: 0.999916\n",
      "Predicted classes: [0 1]\n",
      "Confusion matrix:\n",
      " [[495235      1]\n",
      " [     4    838]]\n",
      "Classification report:\n",
      "               precision    recall  f1-score   support\n",
      "\n",
      "           0       1.00      1.00      1.00    495236\n",
      "           1       1.00      1.00      1.00       842\n",
      "\n",
      "    accuracy                           1.00    496078\n",
      "   macro avg       1.00      1.00      1.00    496078\n",
      "weighted avg       1.00      1.00      1.00    496078\n",
      "\n",
      "------------------------------------------------------------\n"
     ]
    }
   ],
   "source": [
    "model.prediction_cv(rf_clf, X_train_scaled, y_train, cv_fold=5, \n",
    "                    scoring='accuracy',\n",
    "                    model_nm='Random Forest',\n",
    "                   )"
   ]
  },
  {
   "cell_type": "code",
   "execution_count": 21,
   "metadata": {},
   "outputs": [
    {
     "data": {
      "image/png": "[encoded data removed]",
      "text/plain": [
       "<Figure size 1296x720 with 1 Axes>"
      ]
     },
     "metadata": {
      "needs_background": "light"
     },
     "output_type": "display_data"
    }
   ],
   "source": [
    "# Compute feature importances\n",
    "importances_df = pd.DataFrame(\n",
    "    {\n",
    "        'Features': feat_nm, \n",
    "        'Importances': rf_clf.feature_importances_,\n",
    "    }\n",
    ")\n",
    "# Plot\n",
    "importances_df.sort_values('Importances', ascending=True, inplace=True)\n",
    "importances_df.set_index('Features', inplace=True)\n",
    "importances_df.plot(kind='barh', figsize=(18,10))\n",
    "plt.title('Feature Importances')\n",
    "plt.savefig('../image/imp.png')"
   ]
  },
  {
   "cell_type": "markdown",
   "metadata": {},
   "source": [
    "# B. Test Prediction"
   ]
  },
  {
   "cell_type": "markdown",
   "metadata": {},
   "source": [
    "## B-1. Logistic Regression"
   ]
  },
  {
   "cell_type": "code",
   "execution_count": 22,
   "metadata": {},
   "outputs": [
    {
     "name": "stdout",
     "output_type": "stream",
     "text": [
      "Predictions on the test set for Logistic Regression\n",
      "------------------------------------------------------------\n",
      "Accuracy:  0.999984\n",
      "AUROC: 1.000000\n",
      "AUPRC: 0.999932\n",
      "Predicted classes: [0 1]\n",
      "Confusion matrix:\n",
      " [[123810      0]\n",
      " [     2    208]]\n",
      "Classification report:\n",
      "               precision    recall  f1-score   support\n",
      "\n",
      "           0       1.00      1.00      1.00    123810\n",
      "           1       1.00      0.99      1.00       210\n",
      "\n",
      "    accuracy                           1.00    124020\n",
      "   macro avg       1.00      1.00      1.00    124020\n",
      "weighted avg       1.00      1.00      1.00    124020\n",
      "\n",
      "------------------------------------------------------------\n"
     ]
    }
   ],
   "source": [
    "model.prediction(lr_clf, X_test_scaled, y_test, \n",
    "                 subset='test set',\n",
    "                 model_nm='Logistic Regression',\n",
    "                )"
   ]
  },
  {
   "cell_type": "markdown",
   "metadata": {},
   "source": [
    "## B-2. Random Forest"
   ]
  },
  {
   "cell_type": "code",
   "execution_count": 23,
   "metadata": {},
   "outputs": [
    {
     "name": "stdout",
     "output_type": "stream",
     "text": [
      "Predictions on the test set for Random Forest\n",
      "------------------------------------------------------------\n",
      "Accuracy:  0.999992\n",
      "AUROC: 1.000000\n",
      "AUPRC: 1.000000\n",
      "Predicted classes: [0 1]\n",
      "Confusion matrix:\n",
      " [[123810      0]\n",
      " [     1    209]]\n",
      "Classification report:\n",
      "               precision    recall  f1-score   support\n",
      "\n",
      "           0       1.00      1.00      1.00    123810\n",
      "           1       1.00      1.00      1.00       210\n",
      "\n",
      "    accuracy                           1.00    124020\n",
      "   macro avg       1.00      1.00      1.00    124020\n",
      "weighted avg       1.00      1.00      1.00    124020\n",
      "\n",
      "------------------------------------------------------------\n"
     ]
    }
   ],
   "source": [
    "model.prediction(rf_clf, X_test_scaled, y_test,\n",
    "                subset='test set',\n",
    "                model_nm = 'Random Forest',\n",
    "               )"
   ]
  },
  {
   "cell_type": "markdown",
   "metadata": {},
   "source": [
    "# C. ROC and PR Curves"
   ]
  },
  {
   "cell_type": "code",
   "execution_count": 28,
   "metadata": {},
   "outputs": [
    {
     "data": {
      "image/png": "[encoded data removed]",
      "text/plain": [
       "<Figure size 1440x1080 with 4 Axes>"
      ]
     },
     "metadata": {
      "needs_background": "light"
     },
     "output_type": "display_data"
    }
   ],
   "source": [
    "plt.figure(figsize=(20,15))\n",
    "\n",
    "# LR\n",
    "model.plot_roc_pr_curves(lr_clf, X_train_scaled, y_train, X_test_scaled, y_test,\n",
    "                         cv_fold=5, color='b', label='LR (AUC= %0.2f)')\n",
    "# RF\n",
    "model.plot_roc_pr_curves(rf_clf, X_train_scaled, y_train, X_test_scaled, y_test,\n",
    "                         cv_fold=5, color='m', label='RF (AUC= %0.2f)')"
   ]
  },
  {
   "cell_type": "code",
   "execution_count": null,
   "metadata": {},
   "outputs": [],
   "source": []
  }
 ],
 "metadata": {
  "kernelspec": {
   "display_name": "Python 3",
   "language": "python",
   "name": "python3"
  },
  "language_info": {
   "codemirror_mode": {
    "name": "ipython",
    "version": 3
   },
   "file_extension": ".py",
   "mimetype": "text/x-python",
   "name": "python",
   "nbconvert_exporter": "python",
   "pygments_lexer": "ipython3",
   "version": "3.9.4"
  },
  "metadata": {
   "interpreter": {
    "hash": "aee8b7b246df8f9039afb4144a1f6fd8d2ca17a180786b69acc140d282b71a49"
   }
  },
  "vscode": {
   "interpreter": {
    "hash": "aee8b7b246df8f9039afb4144a1f6fd8d2ca17a180786b69acc140d282b71a49"
   }
  }
 },
 "nbformat": 4,
 "nbformat_minor": 4
}
